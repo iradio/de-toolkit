{
 "cells": [
  {
   "cell_type": "code",
   "execution_count": 1,
   "id": "e972b194-fd96-4614-8613-34e8ff94d3a7",
   "metadata": {},
   "outputs": [],
   "source": [
    "from pyspark.sql import SparkSession\n",
    "import pyspark.sql.functions as F\n",
    "\n",
    "# Spark session & context using Spark cluster from docker\n",
    "#spark = SparkSession.builder.master(\"spark://spark:7077\").getOrCreate()\n",
    "# Spark session & context using Spark local PySpark\n",
    "spark = SparkSession.builder.master(\"local[3]\").getOrCreate()\n",
    "\n",
    "sc = spark.sparkContext\n"
   ]
  },
  {
   "cell_type": "code",
   "execution_count": 2,
   "id": "5e0f4415-dc4d-4af7-9493-57267110ad86",
   "metadata": {
    "tags": []
   },
   "outputs": [
    {
     "data": {
      "text/plain": [
       "5050"
      ]
     },
     "execution_count": 2,
     "metadata": {},
     "output_type": "execute_result"
    }
   ],
   "source": [
    "# Sum of the first 100 whole numbers\n",
    "ds = sc.parallelize(range(100 + 1))\n",
    "ds.sum()\n",
    "# 5050"
   ]
  },
  {
   "cell_type": "code",
   "execution_count": 3,
   "id": "ef3c7b24-e292-41b1-98ca-2fe6a3210d68",
   "metadata": {},
   "outputs": [
    {
     "name": "stdout",
     "output_type": "stream",
     "text": [
      "root\n",
      " |-- _c0: string (nullable = true)\n",
      " |-- symbol: string (nullable = true)\n",
      " |-- date: string (nullable = true)\n",
      " |-- open: string (nullable = true)\n",
      " |-- high: string (nullable = true)\n",
      " |-- low: string (nullable = true)\n",
      " |-- close: string (nullable = true)\n",
      " |-- volume: string (nullable = true)\n",
      " |-- adjusted: string (nullable = true)\n",
      " |-- market.cap: string (nullable = true)\n",
      " |-- sector: string (nullable = true)\n",
      " |-- industry: string (nullable = true)\n",
      " |-- exchange: string (nullable = true)\n",
      "\n"
     ]
    }
   ],
   "source": [
    "df = spark.read.csv(\n",
    "    './data/stocks_price_final.csv',\n",
    "    sep=',',\n",
    "    header=True)\n",
    "\n",
    "df.printSchema()"
   ]
  },
  {
   "cell_type": "code",
   "execution_count": 4,
   "id": "ec26c6fe-3b76-4295-9312-d740e50d7904",
   "metadata": {},
   "outputs": [
    {
     "data": {
      "text/plain": [
       "[('_c0', 'string'),\n",
       " ('symbol', 'string'),\n",
       " ('date', 'string'),\n",
       " ('open', 'string'),\n",
       " ('high', 'string'),\n",
       " ('low', 'string'),\n",
       " ('close', 'string'),\n",
       " ('volume', 'string'),\n",
       " ('adjusted', 'string'),\n",
       " ('market.cap', 'string'),\n",
       " ('sector', 'string'),\n",
       " ('industry', 'string'),\n",
       " ('exchange', 'string')]"
      ]
     },
     "execution_count": 4,
     "metadata": {},
     "output_type": "execute_result"
    }
   ],
   "source": [
    "df.dtypes"
   ]
  },
  {
   "cell_type": "code",
   "execution_count": 5,
   "id": "a973f0df-7e59-4d8f-b28f-53e353535f5d",
   "metadata": {},
   "outputs": [
    {
     "data": {
      "text/plain": [
       "[Row(_c0='1', symbol='TXG', date='2019-09-12', open='54', high='58', low='51', close='52.75', volume='7326300', adjusted='52.75', market.cap='$9.31B', sector='Capital Goods', industry='Biotechnology: Laboratory Analytical Instruments', exchange='NASDAQ'),\n",
       " Row(_c0='2', symbol='TXG', date='2019-09-13', open='52.75', high='54.355', low='49.150002', close='52.27', volume='1025200', adjusted='52.27', market.cap='$9.31B', sector='Capital Goods', industry='Biotechnology: Laboratory Analytical Instruments', exchange='NASDAQ'),\n",
       " Row(_c0='3', symbol='TXG', date='2019-09-16', open='52.450001', high='56', low='52.009998', close='55.200001', volume='269900', adjusted='55.200001', market.cap='$9.31B', sector='Capital Goods', industry='Biotechnology: Laboratory Analytical Instruments', exchange='NASDAQ')]"
      ]
     },
     "execution_count": 5,
     "metadata": {},
     "output_type": "execute_result"
    }
   ],
   "source": [
    "#df.show()\n",
    "#df.head(10)\n",
    "#df.tail(2)\n",
    "#df.first()\n",
    "df.take(3)"
   ]
  },
  {
   "cell_type": "code",
   "execution_count": 6,
   "id": "63d23529-599f-4b35-a007-33825d733d51",
   "metadata": {},
   "outputs": [],
   "source": [
    "#df.describe()"
   ]
  },
  {
   "cell_type": "code",
   "execution_count": 7,
   "id": "7ca0df5c-f750-46fb-9e64-193d57e96692",
   "metadata": {},
   "outputs": [
    {
     "data": {
      "text/plain": [
       "['_c0',\n",
       " 'symbol',\n",
       " 'date',\n",
       " 'open',\n",
       " 'high',\n",
       " 'low',\n",
       " 'close',\n",
       " 'volume',\n",
       " 'adjusted',\n",
       " 'market.cap',\n",
       " 'sector',\n",
       " 'industry',\n",
       " 'exchange']"
      ]
     },
     "execution_count": 7,
     "metadata": {},
     "output_type": "execute_result"
    }
   ],
   "source": [
    "df.columns"
   ]
  },
  {
   "cell_type": "code",
   "execution_count": 8,
   "id": "e5ac2c7f-f5b4-4c7b-a77c-f37380efa044",
   "metadata": {},
   "outputs": [
    {
     "data": {
      "text/plain": [
       "1729034"
      ]
     },
     "execution_count": 8,
     "metadata": {},
     "output_type": "execute_result"
    }
   ],
   "source": [
    "df.count()"
   ]
  },
  {
   "cell_type": "code",
   "execution_count": 9,
   "id": "b83f4aa5-2dca-4ed0-9991-1368a7faecd4",
   "metadata": {},
   "outputs": [],
   "source": [
    "#df.distinct().count()"
   ]
  },
  {
   "cell_type": "code",
   "execution_count": 10,
   "id": "3dd98cb3-e581-4937-899a-b70515a7ea3a",
   "metadata": {},
   "outputs": [
    {
     "name": "stdout",
     "output_type": "stream",
     "text": [
      "+---+------+----------+---------+------+---------+---------+-------+---------+----------+-------------+--------------------+--------+\n",
      "|_c0|symbol|      date|     open|  high|      low|    close| volume| adjusted|market.cap|       sector|            industry|exchange|\n",
      "+---+------+----------+---------+------+---------+---------+-------+---------+----------+-------------+--------------------+--------+\n",
      "|  1|   TXG|2019-09-12|       54|    58|       51|    52.75|7326300|    52.75|    $9.31B|Capital Goods|Biotechnology: La...|  NASDAQ|\n",
      "|  2|   TXG|2019-09-13|    52.75|54.355|49.150002|    52.27|1025200|    52.27|    $9.31B|Capital Goods|Biotechnology: La...|  NASDAQ|\n",
      "|  3|   TXG|2019-09-16|52.450001|    56|52.009998|55.200001| 269900|55.200001|    $9.31B|Capital Goods|Biotechnology: La...|  NASDAQ|\n",
      "+---+------+----------+---------+------+---------+---------+-------+---------+----------+-------------+--------------------+--------+\n",
      "only showing top 3 rows\n",
      "\n"
     ]
    }
   ],
   "source": [
    "df.show(3)"
   ]
  },
  {
   "cell_type": "code",
   "execution_count": 11,
   "id": "0b519f35-36f1-47a6-aa15-d8045e072d4a",
   "metadata": {},
   "outputs": [],
   "source": [
    "df = df.selectExpr(\"_c0\",\\\n",
    "              'open',\\\n",
    "              'high as low',\\\n",
    "              'low as high',\\\n",
    "              'volume as new_volume',\\\n",
    "              'sector',\\\n",
    "              'industry',\\\n",
    "              'date')"
   ]
  },
  {
   "cell_type": "code",
   "execution_count": 12,
   "id": "ac62fe3b-31d7-4d98-8de6-d73dfd94ffdd",
   "metadata": {},
   "outputs": [
    {
     "name": "stdout",
     "output_type": "stream",
     "text": [
      "+---+---------+------+---------+----------+-------------+--------------------+----------+\n",
      "|_c0|     open|   low|     high|new_volume|       sector|            industry|      date|\n",
      "+---+---------+------+---------+----------+-------------+--------------------+----------+\n",
      "|  1|       54|    58|       51|   7326300|Capital Goods|Biotechnology: La...|2019-09-12|\n",
      "|  2|    52.75|54.355|49.150002|   1025200|Capital Goods|Biotechnology: La...|2019-09-13|\n",
      "|  3|52.450001|    56|52.009998|    269900|Capital Goods|Biotechnology: La...|2019-09-16|\n",
      "+---+---------+------+---------+----------+-------------+--------------------+----------+\n",
      "only showing top 3 rows\n",
      "\n"
     ]
    }
   ],
   "source": [
    "df.show(3)"
   ]
  },
  {
   "cell_type": "code",
   "execution_count": 13,
   "id": "52010321-2458-4a1c-aebd-ab308d9cdf15",
   "metadata": {},
   "outputs": [],
   "source": [
    "df.write.csv('./output/stocks_price_final.csv')"
   ]
  },
  {
   "cell_type": "code",
   "execution_count": null,
   "id": "fd4cea5d-3fac-4840-830c-13910574bcdf",
   "metadata": {},
   "outputs": [],
   "source": []
  }
 ],
 "metadata": {
  "kernelspec": {
   "display_name": "Python 3 (ipykernel)",
   "language": "python",
   "name": "python3"
  },
  "language_info": {
   "codemirror_mode": {
    "name": "ipython",
    "version": 3
   },
   "file_extension": ".py",
   "mimetype": "text/x-python",
   "name": "python",
   "nbconvert_exporter": "python",
   "pygments_lexer": "ipython3",
   "version": "3.10.5"
  }
 },
 "nbformat": 4,
 "nbformat_minor": 5
}
