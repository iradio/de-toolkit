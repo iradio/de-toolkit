{
 "cells": [
  {
   "cell_type": "code",
   "execution_count": 1,
   "id": "7d723319-0865-4739-9c3f-1935a9c76244",
   "metadata": {},
   "outputs": [
    {
     "name": "stdin",
     "output_type": "stream",
     "text": [
      "Enter password:  ·······\n",
      "Verify password:  ·······\n"
     ]
    },
    {
     "data": {
      "text/plain": [
       "'argon2:$argon2id$v=19$m=10240,t=10,p=8$EYn4kCKYXNoMbDRKNRkPdQ$BDkRLTnaGBJDM2ZAIRObOdH/sHiRP6JNO37kH7DIix0'"
      ]
     },
     "execution_count": 1,
     "metadata": {},
     "output_type": "execute_result"
    }
   ],
   "source": [
    "# generate new password\n",
    "from jupyter_server.auth import passwd\n",
    "passwd()"
   ]
  },
  {
   "cell_type": "code",
   "execution_count": null,
   "id": "2a12b9af-43ac-4bba-aaeb-f8c62c08d8b4",
   "metadata": {},
   "outputs": [],
   "source": [
    "# replace value in jupyter\\jupyter_server_config.py\n",
    "# c.ServerApp.password = GENERATED_VALUE"
   ]
  }
 ],
 "metadata": {
  "kernelspec": {
   "display_name": "Python 3 (ipykernel)",
   "language": "python",
   "name": "python3"
  },
  "language_info": {
   "codemirror_mode": {
    "name": "ipython",
    "version": 3
   },
   "file_extension": ".py",
   "mimetype": "text/x-python",
   "name": "python",
   "nbconvert_exporter": "python",
   "pygments_lexer": "ipython3",
   "version": "3.10.11"
  }
 },
 "nbformat": 4,
 "nbformat_minor": 5
}
